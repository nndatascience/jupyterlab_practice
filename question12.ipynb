{
 "cells": [
  {
   "cell_type": "markdown",
   "id": "447381e1-1191-4747-8135-b5b2349426bb",
   "metadata": {},
   "source": [
    "We are currently in the following directory:"
   ]
  },
  {
   "cell_type": "code",
   "execution_count": 1,
   "id": "4dff6a97-f956-4916-b2cd-1d6ae4db84c8",
   "metadata": {},
   "outputs": [
    {
     "name": "stdout",
     "output_type": "stream",
     "text": [
      "/c/Users/Natalie/jupyterlab_practice\n"
     ]
    }
   ],
   "source": [
    "!pwd"
   ]
  },
  {
   "cell_type": "markdown",
   "id": "f60442f6-9458-44b3-92e5-7c884968ccdb",
   "metadata": {},
   "source": [
    "To time how long it takes to run a Python cell, we could use the` `timeit` `command inside a cell as is shown below:"
   ]
  },
  {
   "cell_type": "code",
   "execution_count": 2,
   "id": "d8b5911d-7267-44f3-bb22-5ef2c70ec8ef",
   "metadata": {},
   "outputs": [
    {
     "name": "stdout",
     "output_type": "stream",
     "text": [
      "192 ms ± 19.2 ms per loop (mean ± std. dev. of 7 runs, 10 loops each)\n"
     ]
    }
   ],
   "source": [
    "%%timeit\n",
    "for i in range(1_000_000):\n",
    "    i**2"
   ]
  },
  {
   "cell_type": "code",
   "execution_count": null,
   "id": "4461ab2a-2e22-4f17-b846-c4feddb21fb6",
   "metadata": {},
   "outputs": [],
   "source": []
  }
 ],
 "metadata": {
  "kernelspec": {
   "display_name": "Python 3 (ipykernel)",
   "language": "python",
   "name": "python3"
  },
  "language_info": {
   "codemirror_mode": {
    "name": "ipython",
    "version": 3
   },
   "file_extension": ".py",
   "mimetype": "text/x-python",
   "name": "python",
   "nbconvert_exporter": "python",
   "pygments_lexer": "ipython3",
   "version": "3.11.8"
  }
 },
 "nbformat": 4,
 "nbformat_minor": 5
}
