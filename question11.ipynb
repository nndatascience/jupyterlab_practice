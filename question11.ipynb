{
 "cells": [
  {
   "cell_type": "markdown",
   "id": "66071d34-cced-42f4-bd4f-ecb51da19787",
   "metadata": {},
   "source": [
    "<h1>Natallia Shuklina</h1> Notebook for assignment 7"
   ]
  },
  {
   "cell_type": "code",
   "execution_count": 2,
   "id": "9513a573-c473-4041-b77a-017af3c27545",
   "metadata": {},
   "outputs": [
    {
     "data": {
      "text/plain": [
       "5.0"
      ]
     },
     "execution_count": 2,
     "metadata": {},
     "output_type": "execute_result"
    }
   ],
   "source": [
    "def compute_mean(values):\n",
    "    sum = 0\n",
    "    for x in values:\n",
    "        sum = sum + x\n",
    "    return sum/ (len(values))\n",
    "\n",
    "compute_mean([2,4,6,8])"
   ]
  },
  {
   "cell_type": "markdown",
   "id": "5e302fb9-e2a9-4a3b-a93d-9f1d381727bc",
   "metadata": {},
   "source": [
    "The mean of a set of values is calculated according to the following formula:\n",
    "\n",
    "$\\overline{x} = \\frac{1}{n} \\sum_{i=i}^{n}$\n",
    "\n",
    "Or alternatively written as\n",
    "\n",
    "$\\overline{x} = \\frac{1}{n}\\left(x_{1}+\\cdots+x_{n}\\right)$\n",
    "\n",
    "In the code cell above, a function 'compute_mean' is defined and then called. compute_mean takes in a list of values as an argument - that is, calling 'compute_mean' with a list of any values following in [] will produce the mean of those values. Breaking donw the actual function, it first defines 'sum' as =0, then defines sum as the addition of sum + x for every x in the set of values given with the function. the function returns the final sum divided by the lenght of the list in number of values - i.e. the number of values we're taking the mean of"
   ]
  },
  {
   "cell_type": "code",
   "execution_count": null,
   "id": "5f361f09-5b53-4f7a-9818-e323af87b5f8",
   "metadata": {},
   "outputs": [],
   "source": []
  }
 ],
 "metadata": {
  "kernelspec": {
   "display_name": "Python 3 (ipykernel)",
   "language": "python",
   "name": "python3"
  },
  "language_info": {
   "codemirror_mode": {
    "name": "ipython",
    "version": 3
   },
   "file_extension": ".py",
   "mimetype": "text/x-python",
   "name": "python",
   "nbconvert_exporter": "python",
   "pygments_lexer": "ipython3",
   "version": "3.11.8"
  }
 },
 "nbformat": 4,
 "nbformat_minor": 5
}
